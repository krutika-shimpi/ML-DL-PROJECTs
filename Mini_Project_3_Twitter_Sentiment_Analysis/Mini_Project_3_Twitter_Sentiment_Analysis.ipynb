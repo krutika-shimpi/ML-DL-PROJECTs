{
  "nbformat": 4,
  "nbformat_minor": 0,
  "metadata": {
    "colab": {
      "provenance": [],
      "gpuType": "T4"
    },
    "kernelspec": {
      "name": "python3",
      "display_name": "Python 3"
    },
    "language_info": {
      "name": "python"
    },
    "accelerator": "GPU"
  },
  "cells": [
    {
      "cell_type": "markdown",
      "source": [
        "# *`Mini Project 3 – Twitter Sentimental Analysis Using NLP and Python`*\n",
        "\n",
        "**Scenario:**\n",
        "\n",
        "By analyzing text data, we can find meaningful insights from non-numeric data that can help us achieve our objective. With the help of NLP and its concepts, we can do it. Twitter is one of the biggest platforms that people use to write their messages, express their feelings about a particular topic, and share knowledge in the form of text. By analyzing text data, we can make good decisions for different use cases like judging the sentiment of the human tweets, and any product review/comments can tell us the performance of a product in the market.\n",
        "\n",
        "NLP allows us to study and understand the colinearity of the data. So we can predict our objective.\n",
        "\n",
        "**Objective:**\n",
        "\n",
        "Use Python libraries such as Pandas for data operations, Seaborn and Matplotlib for data visualization and EDA tasks, NLTK to extract and analyze the information, Sklearn for model building and performance visualization, to predict our different categories of people’s mindsets.\n",
        "\n",
        "**Dataset description:** The data contain information about many Tweets in the form of text and their types, as mentioned below.\n",
        "\n",
        "* **Tweets:** Data is in the form of a sentence written by individuals.\n",
        "* **category:**\n",
        "  1. Numeric (0: Neutral, -1: Negative, 1: Positive) (It is our dependent variable)"
      ],
      "metadata": {
        "id": "5dNbi1PedXwF"
      }
    },
    {
      "cell_type": "code",
      "source": [
        "# Make necessary imports\n",
        "import pandas as pd\n",
        "import numpy as np\n",
        "import matplotlib.pyplot as plt\n",
        "import seaborn as sns\n",
        "import re\n",
        "import string\n",
        "from nltk.corpus import stopwords\n",
        "from nltk.tokenize import word_tokenize\n",
        "import nltk\n",
        "import tensorflow as tf\n",
        "from tensorflow.keras.preprocessing.text import Tokenizer\n",
        "from sklearn.model_selection import train_test_split\n",
        "from sklearn.metrics import classification_report, accuracy_score, precision_recall_fscore_support\n",
        "from tensorflow.keras.layers import Dense, LSTM, Reshape, TextVectorization, Input\n",
        "\n",
        "nltk.download('stopwords')\n",
        "nltk.download('punkt')"
      ],
      "metadata": {
        "id": "HLvv-S7JetP0",
        "colab": {
          "base_uri": "https://localhost:8080/"
        },
        "outputId": "d9d89699-84a6-41f1-ce17-5be716addb8d"
      },
      "execution_count": 72,
      "outputs": [
        {
          "output_type": "stream",
          "name": "stderr",
          "text": [
            "[nltk_data] Downloading package stopwords to /root/nltk_data...\n",
            "[nltk_data]   Package stopwords is already up-to-date!\n",
            "[nltk_data] Downloading package punkt to /root/nltk_data...\n",
            "[nltk_data]   Package punkt is already up-to-date!\n"
          ]
        },
        {
          "output_type": "execute_result",
          "data": {
            "text/plain": [
              "True"
            ]
          },
          "metadata": {},
          "execution_count": 72
        }
      ]
    },
    {
      "cell_type": "markdown",
      "source": [
        "## Get the data"
      ],
      "metadata": {
        "id": "Lpm31AgBYCrJ"
      }
    },
    {
      "cell_type": "code",
      "source": [
        "!wget https://raw.githubusercontent.com/krutika-shimpi/Edureka_Internship_Assigments_solved/main/Mini_Project_3_Twitter_Sentiment_Analysis/Dataset/Twitter_Data.csv"
      ],
      "metadata": {
        "colab": {
          "base_uri": "https://localhost:8080/"
        },
        "id": "ktgpEOV17Gx8",
        "outputId": "7d6d29e0-ec8b-482a-ebae-03cb8904af2d"
      },
      "execution_count": 3,
      "outputs": [
        {
          "output_type": "stream",
          "name": "stdout",
          "text": [
            "--2024-03-18 10:40:51--  https://raw.githubusercontent.com/krutika-shimpi/Edureka_Internship_Assigments_solved/main/Mini_Project_3_Twitter_Sentiment_Analysis/Dataset/Twitter_Data.csv\n",
            "Resolving raw.githubusercontent.com (raw.githubusercontent.com)... 185.199.108.133, 185.199.109.133, 185.199.110.133, ...\n",
            "Connecting to raw.githubusercontent.com (raw.githubusercontent.com)|185.199.108.133|:443... connected.\n",
            "HTTP request sent, awaiting response... 200 OK\n",
            "Length: 20895533 (20M) [text/plain]\n",
            "Saving to: ‘Twitter_Data.csv’\n",
            "\n",
            "Twitter_Data.csv    100%[===================>]  19.93M   106MB/s    in 0.2s    \n",
            "\n",
            "2024-03-18 10:40:52 (106 MB/s) - ‘Twitter_Data.csv’ saved [20895533/20895533]\n",
            "\n"
          ]
        }
      ]
    },
    {
      "cell_type": "code",
      "source": [
        "# Read the data into pandas dataframe\n",
        "twitter_data = pd.read_csv('Twitter_Data.csv')\n",
        "twitter_data.head()"
      ],
      "metadata": {
        "colab": {
          "base_uri": "https://localhost:8080/",
          "height": 206
        },
        "id": "Ood7fgDB7h9X",
        "outputId": "ecd331be-c8ea-4997-da0c-d6b3b9a3b5a5"
      },
      "execution_count": 4,
      "outputs": [
        {
          "output_type": "execute_result",
          "data": {
            "text/plain": [
              "                                          clean_text  category\n",
              "0  when modi promised “minimum government maximum...      -1.0\n",
              "1  talk all the nonsense and continue all the dra...       0.0\n",
              "2  what did just say vote for modi  welcome bjp t...       1.0\n",
              "3  asking his supporters prefix chowkidar their n...       1.0\n",
              "4  answer who among these the most powerful world...       1.0"
            ],
            "text/html": [
              "\n",
              "  <div id=\"df-3da73993-6f9b-4206-b9e2-789b2d78912b\" class=\"colab-df-container\">\n",
              "    <div>\n",
              "<style scoped>\n",
              "    .dataframe tbody tr th:only-of-type {\n",
              "        vertical-align: middle;\n",
              "    }\n",
              "\n",
              "    .dataframe tbody tr th {\n",
              "        vertical-align: top;\n",
              "    }\n",
              "\n",
              "    .dataframe thead th {\n",
              "        text-align: right;\n",
              "    }\n",
              "</style>\n",
              "<table border=\"1\" class=\"dataframe\">\n",
              "  <thead>\n",
              "    <tr style=\"text-align: right;\">\n",
              "      <th></th>\n",
              "      <th>clean_text</th>\n",
              "      <th>category</th>\n",
              "    </tr>\n",
              "  </thead>\n",
              "  <tbody>\n",
              "    <tr>\n",
              "      <th>0</th>\n",
              "      <td>when modi promised “minimum government maximum...</td>\n",
              "      <td>-1.0</td>\n",
              "    </tr>\n",
              "    <tr>\n",
              "      <th>1</th>\n",
              "      <td>talk all the nonsense and continue all the dra...</td>\n",
              "      <td>0.0</td>\n",
              "    </tr>\n",
              "    <tr>\n",
              "      <th>2</th>\n",
              "      <td>what did just say vote for modi  welcome bjp t...</td>\n",
              "      <td>1.0</td>\n",
              "    </tr>\n",
              "    <tr>\n",
              "      <th>3</th>\n",
              "      <td>asking his supporters prefix chowkidar their n...</td>\n",
              "      <td>1.0</td>\n",
              "    </tr>\n",
              "    <tr>\n",
              "      <th>4</th>\n",
              "      <td>answer who among these the most powerful world...</td>\n",
              "      <td>1.0</td>\n",
              "    </tr>\n",
              "  </tbody>\n",
              "</table>\n",
              "</div>\n",
              "    <div class=\"colab-df-buttons\">\n",
              "\n",
              "  <div class=\"colab-df-container\">\n",
              "    <button class=\"colab-df-convert\" onclick=\"convertToInteractive('df-3da73993-6f9b-4206-b9e2-789b2d78912b')\"\n",
              "            title=\"Convert this dataframe to an interactive table.\"\n",
              "            style=\"display:none;\">\n",
              "\n",
              "  <svg xmlns=\"http://www.w3.org/2000/svg\" height=\"24px\" viewBox=\"0 -960 960 960\">\n",
              "    <path d=\"M120-120v-720h720v720H120Zm60-500h600v-160H180v160Zm220 220h160v-160H400v160Zm0 220h160v-160H400v160ZM180-400h160v-160H180v160Zm440 0h160v-160H620v160ZM180-180h160v-160H180v160Zm440 0h160v-160H620v160Z\"/>\n",
              "  </svg>\n",
              "    </button>\n",
              "\n",
              "  <style>\n",
              "    .colab-df-container {\n",
              "      display:flex;\n",
              "      gap: 12px;\n",
              "    }\n",
              "\n",
              "    .colab-df-convert {\n",
              "      background-color: #E8F0FE;\n",
              "      border: none;\n",
              "      border-radius: 50%;\n",
              "      cursor: pointer;\n",
              "      display: none;\n",
              "      fill: #1967D2;\n",
              "      height: 32px;\n",
              "      padding: 0 0 0 0;\n",
              "      width: 32px;\n",
              "    }\n",
              "\n",
              "    .colab-df-convert:hover {\n",
              "      background-color: #E2EBFA;\n",
              "      box-shadow: 0px 1px 2px rgba(60, 64, 67, 0.3), 0px 1px 3px 1px rgba(60, 64, 67, 0.15);\n",
              "      fill: #174EA6;\n",
              "    }\n",
              "\n",
              "    .colab-df-buttons div {\n",
              "      margin-bottom: 4px;\n",
              "    }\n",
              "\n",
              "    [theme=dark] .colab-df-convert {\n",
              "      background-color: #3B4455;\n",
              "      fill: #D2E3FC;\n",
              "    }\n",
              "\n",
              "    [theme=dark] .colab-df-convert:hover {\n",
              "      background-color: #434B5C;\n",
              "      box-shadow: 0px 1px 3px 1px rgba(0, 0, 0, 0.15);\n",
              "      filter: drop-shadow(0px 1px 2px rgba(0, 0, 0, 0.3));\n",
              "      fill: #FFFFFF;\n",
              "    }\n",
              "  </style>\n",
              "\n",
              "    <script>\n",
              "      const buttonEl =\n",
              "        document.querySelector('#df-3da73993-6f9b-4206-b9e2-789b2d78912b button.colab-df-convert');\n",
              "      buttonEl.style.display =\n",
              "        google.colab.kernel.accessAllowed ? 'block' : 'none';\n",
              "\n",
              "      async function convertToInteractive(key) {\n",
              "        const element = document.querySelector('#df-3da73993-6f9b-4206-b9e2-789b2d78912b');\n",
              "        const dataTable =\n",
              "          await google.colab.kernel.invokeFunction('convertToInteractive',\n",
              "                                                    [key], {});\n",
              "        if (!dataTable) return;\n",
              "\n",
              "        const docLinkHtml = 'Like what you see? Visit the ' +\n",
              "          '<a target=\"_blank\" href=https://colab.research.google.com/notebooks/data_table.ipynb>data table notebook</a>'\n",
              "          + ' to learn more about interactive tables.';\n",
              "        element.innerHTML = '';\n",
              "        dataTable['output_type'] = 'display_data';\n",
              "        await google.colab.output.renderOutput(dataTable, element);\n",
              "        const docLink = document.createElement('div');\n",
              "        docLink.innerHTML = docLinkHtml;\n",
              "        element.appendChild(docLink);\n",
              "      }\n",
              "    </script>\n",
              "  </div>\n",
              "\n",
              "\n",
              "<div id=\"df-2103f499-32f9-4943-a8ec-d641c71942f4\">\n",
              "  <button class=\"colab-df-quickchart\" onclick=\"quickchart('df-2103f499-32f9-4943-a8ec-d641c71942f4')\"\n",
              "            title=\"Suggest charts\"\n",
              "            style=\"display:none;\">\n",
              "\n",
              "<svg xmlns=\"http://www.w3.org/2000/svg\" height=\"24px\"viewBox=\"0 0 24 24\"\n",
              "     width=\"24px\">\n",
              "    <g>\n",
              "        <path d=\"M19 3H5c-1.1 0-2 .9-2 2v14c0 1.1.9 2 2 2h14c1.1 0 2-.9 2-2V5c0-1.1-.9-2-2-2zM9 17H7v-7h2v7zm4 0h-2V7h2v10zm4 0h-2v-4h2v4z\"/>\n",
              "    </g>\n",
              "</svg>\n",
              "  </button>\n",
              "\n",
              "<style>\n",
              "  .colab-df-quickchart {\n",
              "      --bg-color: #E8F0FE;\n",
              "      --fill-color: #1967D2;\n",
              "      --hover-bg-color: #E2EBFA;\n",
              "      --hover-fill-color: #174EA6;\n",
              "      --disabled-fill-color: #AAA;\n",
              "      --disabled-bg-color: #DDD;\n",
              "  }\n",
              "\n",
              "  [theme=dark] .colab-df-quickchart {\n",
              "      --bg-color: #3B4455;\n",
              "      --fill-color: #D2E3FC;\n",
              "      --hover-bg-color: #434B5C;\n",
              "      --hover-fill-color: #FFFFFF;\n",
              "      --disabled-bg-color: #3B4455;\n",
              "      --disabled-fill-color: #666;\n",
              "  }\n",
              "\n",
              "  .colab-df-quickchart {\n",
              "    background-color: var(--bg-color);\n",
              "    border: none;\n",
              "    border-radius: 50%;\n",
              "    cursor: pointer;\n",
              "    display: none;\n",
              "    fill: var(--fill-color);\n",
              "    height: 32px;\n",
              "    padding: 0;\n",
              "    width: 32px;\n",
              "  }\n",
              "\n",
              "  .colab-df-quickchart:hover {\n",
              "    background-color: var(--hover-bg-color);\n",
              "    box-shadow: 0 1px 2px rgba(60, 64, 67, 0.3), 0 1px 3px 1px rgba(60, 64, 67, 0.15);\n",
              "    fill: var(--button-hover-fill-color);\n",
              "  }\n",
              "\n",
              "  .colab-df-quickchart-complete:disabled,\n",
              "  .colab-df-quickchart-complete:disabled:hover {\n",
              "    background-color: var(--disabled-bg-color);\n",
              "    fill: var(--disabled-fill-color);\n",
              "    box-shadow: none;\n",
              "  }\n",
              "\n",
              "  .colab-df-spinner {\n",
              "    border: 2px solid var(--fill-color);\n",
              "    border-color: transparent;\n",
              "    border-bottom-color: var(--fill-color);\n",
              "    animation:\n",
              "      spin 1s steps(1) infinite;\n",
              "  }\n",
              "\n",
              "  @keyframes spin {\n",
              "    0% {\n",
              "      border-color: transparent;\n",
              "      border-bottom-color: var(--fill-color);\n",
              "      border-left-color: var(--fill-color);\n",
              "    }\n",
              "    20% {\n",
              "      border-color: transparent;\n",
              "      border-left-color: var(--fill-color);\n",
              "      border-top-color: var(--fill-color);\n",
              "    }\n",
              "    30% {\n",
              "      border-color: transparent;\n",
              "      border-left-color: var(--fill-color);\n",
              "      border-top-color: var(--fill-color);\n",
              "      border-right-color: var(--fill-color);\n",
              "    }\n",
              "    40% {\n",
              "      border-color: transparent;\n",
              "      border-right-color: var(--fill-color);\n",
              "      border-top-color: var(--fill-color);\n",
              "    }\n",
              "    60% {\n",
              "      border-color: transparent;\n",
              "      border-right-color: var(--fill-color);\n",
              "    }\n",
              "    80% {\n",
              "      border-color: transparent;\n",
              "      border-right-color: var(--fill-color);\n",
              "      border-bottom-color: var(--fill-color);\n",
              "    }\n",
              "    90% {\n",
              "      border-color: transparent;\n",
              "      border-bottom-color: var(--fill-color);\n",
              "    }\n",
              "  }\n",
              "</style>\n",
              "\n",
              "  <script>\n",
              "    async function quickchart(key) {\n",
              "      const quickchartButtonEl =\n",
              "        document.querySelector('#' + key + ' button');\n",
              "      quickchartButtonEl.disabled = true;  // To prevent multiple clicks.\n",
              "      quickchartButtonEl.classList.add('colab-df-spinner');\n",
              "      try {\n",
              "        const charts = await google.colab.kernel.invokeFunction(\n",
              "            'suggestCharts', [key], {});\n",
              "      } catch (error) {\n",
              "        console.error('Error during call to suggestCharts:', error);\n",
              "      }\n",
              "      quickchartButtonEl.classList.remove('colab-df-spinner');\n",
              "      quickchartButtonEl.classList.add('colab-df-quickchart-complete');\n",
              "    }\n",
              "    (() => {\n",
              "      let quickchartButtonEl =\n",
              "        document.querySelector('#df-2103f499-32f9-4943-a8ec-d641c71942f4 button');\n",
              "      quickchartButtonEl.style.display =\n",
              "        google.colab.kernel.accessAllowed ? 'block' : 'none';\n",
              "    })();\n",
              "  </script>\n",
              "</div>\n",
              "\n",
              "    </div>\n",
              "  </div>\n"
            ],
            "application/vnd.google.colaboratory.intrinsic+json": {
              "type": "dataframe",
              "variable_name": "twitter_data"
            }
          },
          "metadata": {},
          "execution_count": 4
        }
      ]
    },
    {
      "cell_type": "code",
      "source": [
        "# Change our dependent variable to categorical. ( 0 to “Neutral,” -1 to “Negative”, 1 to “Positive”)\n",
        "category_mapping = {0: \"Neutral\", -1: \"Negative\", 1: \"Positive\"}\n",
        "\n",
        "# Use the map function to map numerical values to categories\n",
        "twitter_data['category'] = twitter_data['category'].map(category_mapping)\n",
        "\n",
        "twitter_data.head()"
      ],
      "metadata": {
        "colab": {
          "base_uri": "https://localhost:8080/",
          "height": 206
        },
        "id": "6NXYo0Vo7tEW",
        "outputId": "c8c4f402-c65b-4091-ebb6-e327c6c6c470"
      },
      "execution_count": 5,
      "outputs": [
        {
          "output_type": "execute_result",
          "data": {
            "text/plain": [
              "                                          clean_text  category\n",
              "0  when modi promised “minimum government maximum...  Negative\n",
              "1  talk all the nonsense and continue all the dra...   Neutral\n",
              "2  what did just say vote for modi  welcome bjp t...  Positive\n",
              "3  asking his supporters prefix chowkidar their n...  Positive\n",
              "4  answer who among these the most powerful world...  Positive"
            ],
            "text/html": [
              "\n",
              "  <div id=\"df-833a42a4-d3d4-4c0f-ad6b-0dedde961db7\" class=\"colab-df-container\">\n",
              "    <div>\n",
              "<style scoped>\n",
              "    .dataframe tbody tr th:only-of-type {\n",
              "        vertical-align: middle;\n",
              "    }\n",
              "\n",
              "    .dataframe tbody tr th {\n",
              "        vertical-align: top;\n",
              "    }\n",
              "\n",
              "    .dataframe thead th {\n",
              "        text-align: right;\n",
              "    }\n",
              "</style>\n",
              "<table border=\"1\" class=\"dataframe\">\n",
              "  <thead>\n",
              "    <tr style=\"text-align: right;\">\n",
              "      <th></th>\n",
              "      <th>clean_text</th>\n",
              "      <th>category</th>\n",
              "    </tr>\n",
              "  </thead>\n",
              "  <tbody>\n",
              "    <tr>\n",
              "      <th>0</th>\n",
              "      <td>when modi promised “minimum government maximum...</td>\n",
              "      <td>Negative</td>\n",
              "    </tr>\n",
              "    <tr>\n",
              "      <th>1</th>\n",
              "      <td>talk all the nonsense and continue all the dra...</td>\n",
              "      <td>Neutral</td>\n",
              "    </tr>\n",
              "    <tr>\n",
              "      <th>2</th>\n",
              "      <td>what did just say vote for modi  welcome bjp t...</td>\n",
              "      <td>Positive</td>\n",
              "    </tr>\n",
              "    <tr>\n",
              "      <th>3</th>\n",
              "      <td>asking his supporters prefix chowkidar their n...</td>\n",
              "      <td>Positive</td>\n",
              "    </tr>\n",
              "    <tr>\n",
              "      <th>4</th>\n",
              "      <td>answer who among these the most powerful world...</td>\n",
              "      <td>Positive</td>\n",
              "    </tr>\n",
              "  </tbody>\n",
              "</table>\n",
              "</div>\n",
              "    <div class=\"colab-df-buttons\">\n",
              "\n",
              "  <div class=\"colab-df-container\">\n",
              "    <button class=\"colab-df-convert\" onclick=\"convertToInteractive('df-833a42a4-d3d4-4c0f-ad6b-0dedde961db7')\"\n",
              "            title=\"Convert this dataframe to an interactive table.\"\n",
              "            style=\"display:none;\">\n",
              "\n",
              "  <svg xmlns=\"http://www.w3.org/2000/svg\" height=\"24px\" viewBox=\"0 -960 960 960\">\n",
              "    <path d=\"M120-120v-720h720v720H120Zm60-500h600v-160H180v160Zm220 220h160v-160H400v160Zm0 220h160v-160H400v160ZM180-400h160v-160H180v160Zm440 0h160v-160H620v160ZM180-180h160v-160H180v160Zm440 0h160v-160H620v160Z\"/>\n",
              "  </svg>\n",
              "    </button>\n",
              "\n",
              "  <style>\n",
              "    .colab-df-container {\n",
              "      display:flex;\n",
              "      gap: 12px;\n",
              "    }\n",
              "\n",
              "    .colab-df-convert {\n",
              "      background-color: #E8F0FE;\n",
              "      border: none;\n",
              "      border-radius: 50%;\n",
              "      cursor: pointer;\n",
              "      display: none;\n",
              "      fill: #1967D2;\n",
              "      height: 32px;\n",
              "      padding: 0 0 0 0;\n",
              "      width: 32px;\n",
              "    }\n",
              "\n",
              "    .colab-df-convert:hover {\n",
              "      background-color: #E2EBFA;\n",
              "      box-shadow: 0px 1px 2px rgba(60, 64, 67, 0.3), 0px 1px 3px 1px rgba(60, 64, 67, 0.15);\n",
              "      fill: #174EA6;\n",
              "    }\n",
              "\n",
              "    .colab-df-buttons div {\n",
              "      margin-bottom: 4px;\n",
              "    }\n",
              "\n",
              "    [theme=dark] .colab-df-convert {\n",
              "      background-color: #3B4455;\n",
              "      fill: #D2E3FC;\n",
              "    }\n",
              "\n",
              "    [theme=dark] .colab-df-convert:hover {\n",
              "      background-color: #434B5C;\n",
              "      box-shadow: 0px 1px 3px 1px rgba(0, 0, 0, 0.15);\n",
              "      filter: drop-shadow(0px 1px 2px rgba(0, 0, 0, 0.3));\n",
              "      fill: #FFFFFF;\n",
              "    }\n",
              "  </style>\n",
              "\n",
              "    <script>\n",
              "      const buttonEl =\n",
              "        document.querySelector('#df-833a42a4-d3d4-4c0f-ad6b-0dedde961db7 button.colab-df-convert');\n",
              "      buttonEl.style.display =\n",
              "        google.colab.kernel.accessAllowed ? 'block' : 'none';\n",
              "\n",
              "      async function convertToInteractive(key) {\n",
              "        const element = document.querySelector('#df-833a42a4-d3d4-4c0f-ad6b-0dedde961db7');\n",
              "        const dataTable =\n",
              "          await google.colab.kernel.invokeFunction('convertToInteractive',\n",
              "                                                    [key], {});\n",
              "        if (!dataTable) return;\n",
              "\n",
              "        const docLinkHtml = 'Like what you see? Visit the ' +\n",
              "          '<a target=\"_blank\" href=https://colab.research.google.com/notebooks/data_table.ipynb>data table notebook</a>'\n",
              "          + ' to learn more about interactive tables.';\n",
              "        element.innerHTML = '';\n",
              "        dataTable['output_type'] = 'display_data';\n",
              "        await google.colab.output.renderOutput(dataTable, element);\n",
              "        const docLink = document.createElement('div');\n",
              "        docLink.innerHTML = docLinkHtml;\n",
              "        element.appendChild(docLink);\n",
              "      }\n",
              "    </script>\n",
              "  </div>\n",
              "\n",
              "\n",
              "<div id=\"df-f2c51953-ec50-4fc2-9197-5b6cde39f4ae\">\n",
              "  <button class=\"colab-df-quickchart\" onclick=\"quickchart('df-f2c51953-ec50-4fc2-9197-5b6cde39f4ae')\"\n",
              "            title=\"Suggest charts\"\n",
              "            style=\"display:none;\">\n",
              "\n",
              "<svg xmlns=\"http://www.w3.org/2000/svg\" height=\"24px\"viewBox=\"0 0 24 24\"\n",
              "     width=\"24px\">\n",
              "    <g>\n",
              "        <path d=\"M19 3H5c-1.1 0-2 .9-2 2v14c0 1.1.9 2 2 2h14c1.1 0 2-.9 2-2V5c0-1.1-.9-2-2-2zM9 17H7v-7h2v7zm4 0h-2V7h2v10zm4 0h-2v-4h2v4z\"/>\n",
              "    </g>\n",
              "</svg>\n",
              "  </button>\n",
              "\n",
              "<style>\n",
              "  .colab-df-quickchart {\n",
              "      --bg-color: #E8F0FE;\n",
              "      --fill-color: #1967D2;\n",
              "      --hover-bg-color: #E2EBFA;\n",
              "      --hover-fill-color: #174EA6;\n",
              "      --disabled-fill-color: #AAA;\n",
              "      --disabled-bg-color: #DDD;\n",
              "  }\n",
              "\n",
              "  [theme=dark] .colab-df-quickchart {\n",
              "      --bg-color: #3B4455;\n",
              "      --fill-color: #D2E3FC;\n",
              "      --hover-bg-color: #434B5C;\n",
              "      --hover-fill-color: #FFFFFF;\n",
              "      --disabled-bg-color: #3B4455;\n",
              "      --disabled-fill-color: #666;\n",
              "  }\n",
              "\n",
              "  .colab-df-quickchart {\n",
              "    background-color: var(--bg-color);\n",
              "    border: none;\n",
              "    border-radius: 50%;\n",
              "    cursor: pointer;\n",
              "    display: none;\n",
              "    fill: var(--fill-color);\n",
              "    height: 32px;\n",
              "    padding: 0;\n",
              "    width: 32px;\n",
              "  }\n",
              "\n",
              "  .colab-df-quickchart:hover {\n",
              "    background-color: var(--hover-bg-color);\n",
              "    box-shadow: 0 1px 2px rgba(60, 64, 67, 0.3), 0 1px 3px 1px rgba(60, 64, 67, 0.15);\n",
              "    fill: var(--button-hover-fill-color);\n",
              "  }\n",
              "\n",
              "  .colab-df-quickchart-complete:disabled,\n",
              "  .colab-df-quickchart-complete:disabled:hover {\n",
              "    background-color: var(--disabled-bg-color);\n",
              "    fill: var(--disabled-fill-color);\n",
              "    box-shadow: none;\n",
              "  }\n",
              "\n",
              "  .colab-df-spinner {\n",
              "    border: 2px solid var(--fill-color);\n",
              "    border-color: transparent;\n",
              "    border-bottom-color: var(--fill-color);\n",
              "    animation:\n",
              "      spin 1s steps(1) infinite;\n",
              "  }\n",
              "\n",
              "  @keyframes spin {\n",
              "    0% {\n",
              "      border-color: transparent;\n",
              "      border-bottom-color: var(--fill-color);\n",
              "      border-left-color: var(--fill-color);\n",
              "    }\n",
              "    20% {\n",
              "      border-color: transparent;\n",
              "      border-left-color: var(--fill-color);\n",
              "      border-top-color: var(--fill-color);\n",
              "    }\n",
              "    30% {\n",
              "      border-color: transparent;\n",
              "      border-left-color: var(--fill-color);\n",
              "      border-top-color: var(--fill-color);\n",
              "      border-right-color: var(--fill-color);\n",
              "    }\n",
              "    40% {\n",
              "      border-color: transparent;\n",
              "      border-right-color: var(--fill-color);\n",
              "      border-top-color: var(--fill-color);\n",
              "    }\n",
              "    60% {\n",
              "      border-color: transparent;\n",
              "      border-right-color: var(--fill-color);\n",
              "    }\n",
              "    80% {\n",
              "      border-color: transparent;\n",
              "      border-right-color: var(--fill-color);\n",
              "      border-bottom-color: var(--fill-color);\n",
              "    }\n",
              "    90% {\n",
              "      border-color: transparent;\n",
              "      border-bottom-color: var(--fill-color);\n",
              "    }\n",
              "  }\n",
              "</style>\n",
              "\n",
              "  <script>\n",
              "    async function quickchart(key) {\n",
              "      const quickchartButtonEl =\n",
              "        document.querySelector('#' + key + ' button');\n",
              "      quickchartButtonEl.disabled = true;  // To prevent multiple clicks.\n",
              "      quickchartButtonEl.classList.add('colab-df-spinner');\n",
              "      try {\n",
              "        const charts = await google.colab.kernel.invokeFunction(\n",
              "            'suggestCharts', [key], {});\n",
              "      } catch (error) {\n",
              "        console.error('Error during call to suggestCharts:', error);\n",
              "      }\n",
              "      quickchartButtonEl.classList.remove('colab-df-spinner');\n",
              "      quickchartButtonEl.classList.add('colab-df-quickchart-complete');\n",
              "    }\n",
              "    (() => {\n",
              "      let quickchartButtonEl =\n",
              "        document.querySelector('#df-f2c51953-ec50-4fc2-9197-5b6cde39f4ae button');\n",
              "      quickchartButtonEl.style.display =\n",
              "        google.colab.kernel.accessAllowed ? 'block' : 'none';\n",
              "    })();\n",
              "  </script>\n",
              "</div>\n",
              "\n",
              "    </div>\n",
              "  </div>\n"
            ],
            "application/vnd.google.colaboratory.intrinsic+json": {
              "type": "dataframe",
              "variable_name": "twitter_data"
            }
          },
          "metadata": {},
          "execution_count": 5
        }
      ]
    },
    {
      "cell_type": "code",
      "source": [
        "twitter_data.shape"
      ],
      "metadata": {
        "colab": {
          "base_uri": "https://localhost:8080/"
        },
        "id": "roEsQtUMFYza",
        "outputId": "e7805b58-82a0-47fb-c2ae-c04bfd5483a9"
      },
      "execution_count": 6,
      "outputs": [
        {
          "output_type": "execute_result",
          "data": {
            "text/plain": [
              "(162980, 2)"
            ]
          },
          "metadata": {},
          "execution_count": 6
        }
      ]
    },
    {
      "cell_type": "markdown",
      "source": [
        "## Visualize some random sentences"
      ],
      "metadata": {
        "id": "GGouK4IbYIjl"
      }
    },
    {
      "cell_type": "code",
      "source": [
        "# Inspect the output column and check how many values are present for each class\n",
        "plt.bar(['Negative', 'Positive', 'Neutral'], twitter_data['category'].value_counts(), color = ['salmon', 'lightskyblue', 'lightgreen'])\n",
        "plt.title('Output class along with the values')\n",
        "plt.xlabel('Categories')\n",
        "plt.ylabel('Count')\n",
        "plt.show()"
      ],
      "metadata": {
        "colab": {
          "base_uri": "https://localhost:8080/",
          "height": 472
        },
        "id": "7qJ7Eeuy0uE3",
        "outputId": "0d9b8ca7-7d17-447f-82df-ee2f97a2c3b7"
      },
      "execution_count": 7,
      "outputs": [
        {
          "output_type": "display_data",
          "data": {
            "text/plain": [
              "<Figure size 640x480 with 1 Axes>"
            ],
            "image/png": "[encoded data removed]"
          },
          "metadata": {}
        }
      ]
    },
    {
      "cell_type": "code",
      "source": [
        "# Print a random sentence and its assigned class\n",
        "print('\\nSample sentences along with labels:\\n')\n",
        "for i in range(5):\n",
        "  random_index = np.random.randint(0, twitter_data.shape[0])\n",
        "  text = twitter_data['clean_text'][random_index]\n",
        "  label = twitter_data['category'][random_index]\n",
        "  print(f'\\nText {i + 1}:\\n{text}\\n\\nLabel {i + 1}: {label}\\n')"
      ],
      "metadata": {
        "colab": {
          "base_uri": "https://localhost:8080/"
        },
        "id": "xZWpJuG31w0O",
        "outputId": "53f99e48-c196-465a-9480-6d1212d286f8"
      },
      "execution_count": 8,
      "outputs": [
        {
          "output_type": "stream",
          "name": "stdout",
          "text": [
            "\n",
            "Sample sentences along with labels:\n",
            "\n",
            "\n",
            "Text 1:\n",
            "can understand menaka having care for her husband’ family but how can not furious about modi and other bjp monkeys abusing his grandmother and great grandfather every other day lost any respect for him even human being after the above tweet\n",
            "\n",
            "Label 1: Positive\n",
            "\n",
            "\n",
            "Text 2:\n",
            "its all fine sir also really appreciate our shri modi\n",
            "\n",
            "Label 2: Positive\n",
            "\n",
            "\n",
            "Text 3:\n",
            "point iaf jets crossed and dropped bombs mainland destroyed camps modi deserve full credit for calling pakistans nuclear bluff strikes terror pads response the new normal now\n",
            "\n",
            "Label 3: Positive\n",
            "\n",
            "\n",
            "Text 4:\n",
            "idiots dont know that rajasthan modi more popular than guajrat\n",
            "\n",
            "Label 4: Positive\n",
            "\n",
            "\n",
            "Text 5:\n",
            "hatred not one way path was already their but from the muslim side while after modi rule hindus started fighting against that\n",
            "fyi when you have some revolutionary changes system will surely have some backlaehes like how liberalisation was done singh\n",
            "\n",
            "Label 5: Positive\n",
            "\n"
          ]
        }
      ]
    },
    {
      "cell_type": "code",
      "source": [
        "# Perform Missing value analysis and drop all null/missing values\n",
        "twitter_data.isna().sum()\n",
        "twitter_data.dropna(inplace=True)\n",
        "twitter_data.shape"
      ],
      "metadata": {
        "colab": {
          "base_uri": "https://localhost:8080/"
        },
        "id": "kekZdLKm8XHc",
        "outputId": "169cc6fe-e8e6-40c9-b9c0-641c822754b8"
      },
      "execution_count": 9,
      "outputs": [
        {
          "output_type": "execute_result",
          "data": {
            "text/plain": [
              "(162969, 2)"
            ]
          },
          "metadata": {},
          "execution_count": 9
        }
      ]
    },
    {
      "cell_type": "markdown",
      "source": [
        "## Prepare the data/ Preprocessing the data"
      ],
      "metadata": {
        "id": "fkcQhkKvYSHX"
      }
    },
    {
      "cell_type": "code",
      "source": [
        "# Do text cleaning. (remove every symbol except alphanumeric, transform all words to lower case, and remove punctuation and stopwords )\n",
        "def clean_text(text):\n",
        "\n",
        "    # Remove punctuation\n",
        "    text = text.translate(str.maketrans('', '', string.punctuation))\n",
        "\n",
        "    # Tokenize the text\n",
        "    tokens = word_tokenize(text)\n",
        "\n",
        "    # Remove stopwords\n",
        "    stopwords_list = set(stopwords.words('english'))\n",
        "    tokens = [word for word in tokens if word.lower() not in stopwords_list]\n",
        "\n",
        "    # Join the tokens back into a string\n",
        "    clean_text = ' '.join(tokens)\n",
        "    return clean_text\n",
        "\n",
        "# Example sentence to check how our function works\n",
        "sample_text = \"Hello! This is an example text with symbols, punctuation, and stopwords.\"\n",
        "cleaned_text = clean_text(sample_text)\n",
        "print(\"Original text:\", sample_text)\n",
        "print(\"\\nCleaned text:\", cleaned_text)"
      ],
      "metadata": {
        "id": "RbiFgSHg-CgZ",
        "colab": {
          "base_uri": "https://localhost:8080/"
        },
        "outputId": "a63b7664-148f-4663-c609-7fd58eda76ca"
      },
      "execution_count": 10,
      "outputs": [
        {
          "output_type": "stream",
          "name": "stdout",
          "text": [
            "Original text: Hello! This is an example text with symbols, punctuation, and stopwords.\n",
            "\n",
            "Cleaned text: Hello example text symbols punctuation stopwords\n"
          ]
        }
      ]
    },
    {
      "cell_type": "code",
      "source": [
        "# Lets remove the punctuations and stopwords from our data as well\n",
        "twitter_data['clean_text'] = twitter_data['clean_text'].apply(clean_text)"
      ],
      "metadata": {
        "id": "9ja4LpnHPfv0"
      },
      "execution_count": 11,
      "outputs": []
    },
    {
      "cell_type": "code",
      "source": [
        "# Create a new column and find the length of each sentence (how many words they contain)\n",
        "twitter_data['sentence_length'] = twitter_data['clean_text'].apply(lambda x: len(x.split()))\n",
        "twitter_data.head()"
      ],
      "metadata": {
        "colab": {
          "base_uri": "https://localhost:8080/",
          "height": 206
        },
        "id": "x8_Dn-5FR3d7",
        "outputId": "2c0ba485-53b7-403a-b4f5-0f65cf66dd2d"
      },
      "execution_count": 12,
      "outputs": [
        {
          "output_type": "execute_result",
          "data": {
            "text/plain": [
              "                                          clean_text  category  \\\n",
              "0  modi promised “ minimum government maximum gov...  Negative   \n",
              "1             talk nonsense continue drama vote modi   Neutral   \n",
              "2  say vote modi welcome bjp told rahul main camp...  Positive   \n",
              "3  asking supporters prefix chowkidar names modi ...  Positive   \n",
              "4  answer among powerful world leader today trump...  Positive   \n",
              "\n",
              "   sentence_length  \n",
              "0               23  \n",
              "1                6  \n",
              "2               13  \n",
              "3               19  \n",
              "4               10  "
            ],
            "text/html": [
              "\n",
              "  <div id=\"df-7fa81339-f7a3-4c03-9cab-48c94d6a973a\" class=\"colab-df-container\">\n",
              "    <div>\n",
              "<style scoped>\n",
              "    .dataframe tbody tr th:only-of-type {\n",
              "        vertical-align: middle;\n",
              "    }\n",
              "\n",
              "    .dataframe tbody tr th {\n",
              "        vertical-align: top;\n",
              "    }\n",
              "\n",
              "    .dataframe thead th {\n",
              "        text-align: right;\n",
              "    }\n",
              "</style>\n",
              "<table border=\"1\" class=\"dataframe\">\n",
              "  <thead>\n",
              "    <tr style=\"text-align: right;\">\n",
              "      <th></th>\n",
              "      <th>clean_text</th>\n",
              "      <th>category</th>\n",
              "      <th>sentence_length</th>\n",
              "    </tr>\n",
              "  </thead>\n",
              "  <tbody>\n",
              "    <tr>\n",
              "      <th>0</th>\n",
              "      <td>modi promised “ minimum government maximum gov...</td>\n",
              "      <td>Negative</td>\n",
              "      <td>23</td>\n",
              "    </tr>\n",
              "    <tr>\n",
              "      <th>1</th>\n",
              "      <td>talk nonsense continue drama vote modi</td>\n",
              "      <td>Neutral</td>\n",
              "      <td>6</td>\n",
              "    </tr>\n",
              "    <tr>\n",
              "      <th>2</th>\n",
              "      <td>say vote modi welcome bjp told rahul main camp...</td>\n",
              "      <td>Positive</td>\n",
              "      <td>13</td>\n",
              "    </tr>\n",
              "    <tr>\n",
              "      <th>3</th>\n",
              "      <td>asking supporters prefix chowkidar names modi ...</td>\n",
              "      <td>Positive</td>\n",
              "      <td>19</td>\n",
              "    </tr>\n",
              "    <tr>\n",
              "      <th>4</th>\n",
              "      <td>answer among powerful world leader today trump...</td>\n",
              "      <td>Positive</td>\n",
              "      <td>10</td>\n",
              "    </tr>\n",
              "  </tbody>\n",
              "</table>\n",
              "</div>\n",
              "    <div class=\"colab-df-buttons\">\n",
              "\n",
              "  <div class=\"colab-df-container\">\n",
              "    <button class=\"colab-df-convert\" onclick=\"convertToInteractive('df-7fa81339-f7a3-4c03-9cab-48c94d6a973a')\"\n",
              "            title=\"Convert this dataframe to an interactive table.\"\n",
              "            style=\"display:none;\">\n",
              "\n",
              "  <svg xmlns=\"http://www.w3.org/2000/svg\" height=\"24px\" viewBox=\"0 -960 960 960\">\n",
              "    <path d=\"M120-120v-720h720v720H120Zm60-500h600v-160H180v160Zm220 220h160v-160H400v160Zm0 220h160v-160H400v160ZM180-400h160v-160H180v160Zm440 0h160v-160H620v160ZM180-180h160v-160H180v160Zm440 0h160v-160H620v160Z\"/>\n",
              "  </svg>\n",
              "    </button>\n",
              "\n",
              "  <style>\n",
              "    .colab-df-container {\n",
              "      display:flex;\n",
              "      gap: 12px;\n",
              "    }\n",
              "\n",
              "    .colab-df-convert {\n",
              "      background-color: #E8F0FE;\n",
              "      border: none;\n",
              "      border-radius: 50%;\n",
              "      cursor: pointer;\n",
              "      display: none;\n",
              "      fill: #1967D2;\n",
              "      height: 32px;\n",
              "      padding: 0 0 0 0;\n",
              "      width: 32px;\n",
              "    }\n",
              "\n",
              "    .colab-df-convert:hover {\n",
              "      background-color: #E2EBFA;\n",
              "      box-shadow: 0px 1px 2px rgba(60, 64, 67, 0.3), 0px 1px 3px 1px rgba(60, 64, 67, 0.15);\n",
              "      fill: #174EA6;\n",
              "    }\n",
              "\n",
              "    .colab-df-buttons div {\n",
              "      margin-bottom: 4px;\n",
              "    }\n",
              "\n",
              "    [theme=dark] .colab-df-convert {\n",
              "      background-color: #3B4455;\n",
              "      fill: #D2E3FC;\n",
              "    }\n",
              "\n",
              "    [theme=dark] .colab-df-convert:hover {\n",
              "      background-color: #434B5C;\n",
              "      box-shadow: 0px 1px 3px 1px rgba(0, 0, 0, 0.15);\n",
              "      filter: drop-shadow(0px 1px 2px rgba(0, 0, 0, 0.3));\n",
              "      fill: #FFFFFF;\n",
              "    }\n",
              "  </style>\n",
              "\n",
              "    <script>\n",
              "      const buttonEl =\n",
              "        document.querySelector('#df-7fa81339-f7a3-4c03-9cab-48c94d6a973a button.colab-df-convert');\n",
              "      buttonEl.style.display =\n",
              "        google.colab.kernel.accessAllowed ? 'block' : 'none';\n",
              "\n",
              "      async function convertToInteractive(key) {\n",
              "        const element = document.querySelector('#df-7fa81339-f7a3-4c03-9cab-48c94d6a973a');\n",
              "        const dataTable =\n",
              "          await google.colab.kernel.invokeFunction('convertToInteractive',\n",
              "                                                    [key], {});\n",
              "        if (!dataTable) return;\n",
              "\n",
              "        const docLinkHtml = 'Like what you see? Visit the ' +\n",
              "          '<a target=\"_blank\" href=https://colab.research.google.com/notebooks/data_table.ipynb>data table notebook</a>'\n",
              "          + ' to learn more about interactive tables.';\n",
              "        element.innerHTML = '';\n",
              "        dataTable['output_type'] = 'display_data';\n",
              "        await google.colab.output.renderOutput(dataTable, element);\n",
              "        const docLink = document.createElement('div');\n",
              "        docLink.innerHTML = docLinkHtml;\n",
              "        element.appendChild(docLink);\n",
              "      }\n",
              "    </script>\n",
              "  </div>\n",
              "\n",
              "\n",
              "<div id=\"df-673fa1aa-a380-4e4c-bedc-a4a6e3450d35\">\n",
              "  <button class=\"colab-df-quickchart\" onclick=\"quickchart('df-673fa1aa-a380-4e4c-bedc-a4a6e3450d35')\"\n",
              "            title=\"Suggest charts\"\n",
              "            style=\"display:none;\">\n",
              "\n",
              "<svg xmlns=\"http://www.w3.org/2000/svg\" height=\"24px\"viewBox=\"0 0 24 24\"\n",
              "     width=\"24px\">\n",
              "    <g>\n",
              "        <path d=\"M19 3H5c-1.1 0-2 .9-2 2v14c0 1.1.9 2 2 2h14c1.1 0 2-.9 2-2V5c0-1.1-.9-2-2-2zM9 17H7v-7h2v7zm4 0h-2V7h2v10zm4 0h-2v-4h2v4z\"/>\n",
              "    </g>\n",
              "</svg>\n",
              "  </button>\n",
              "\n",
              "<style>\n",
              "  .colab-df-quickchart {\n",
              "      --bg-color: #E8F0FE;\n",
              "      --fill-color: #1967D2;\n",
              "      --hover-bg-color: #E2EBFA;\n",
              "      --hover-fill-color: #174EA6;\n",
              "      --disabled-fill-color: #AAA;\n",
              "      --disabled-bg-color: #DDD;\n",
              "  }\n",
              "\n",
              "  [theme=dark] .colab-df-quickchart {\n",
              "      --bg-color: #3B4455;\n",
              "      --fill-color: #D2E3FC;\n",
              "      --hover-bg-color: #434B5C;\n",
              "      --hover-fill-color: #FFFFFF;\n",
              "      --disabled-bg-color: #3B4455;\n",
              "      --disabled-fill-color: #666;\n",
              "  }\n",
              "\n",
              "  .colab-df-quickchart {\n",
              "    background-color: var(--bg-color);\n",
              "    border: none;\n",
              "    border-radius: 50%;\n",
              "    cursor: pointer;\n",
              "    display: none;\n",
              "    fill: var(--fill-color);\n",
              "    height: 32px;\n",
              "    padding: 0;\n",
              "    width: 32px;\n",
              "  }\n",
              "\n",
              "  .colab-df-quickchart:hover {\n",
              "    background-color: var(--hover-bg-color);\n",
              "    box-shadow: 0 1px 2px rgba(60, 64, 67, 0.3), 0 1px 3px 1px rgba(60, 64, 67, 0.15);\n",
              "    fill: var(--button-hover-fill-color);\n",
              "  }\n",
              "\n",
              "  .colab-df-quickchart-complete:disabled,\n",
              "  .colab-df-quickchart-complete:disabled:hover {\n",
              "    background-color: var(--disabled-bg-color);\n",
              "    fill: var(--disabled-fill-color);\n",
              "    box-shadow: none;\n",
              "  }\n",
              "\n",
              "  .colab-df-spinner {\n",
              "    border: 2px solid var(--fill-color);\n",
              "    border-color: transparent;\n",
              "    border-bottom-color: var(--fill-color);\n",
              "    animation:\n",
              "      spin 1s steps(1) infinite;\n",
              "  }\n",
              "\n",
              "  @keyframes spin {\n",
              "    0% {\n",
              "      border-color: transparent;\n",
              "      border-bottom-color: var(--fill-color);\n",
              "      border-left-color: var(--fill-color);\n",
              "    }\n",
              "    20% {\n",
              "      border-color: transparent;\n",
              "      border-left-color: var(--fill-color);\n",
              "      border-top-color: var(--fill-color);\n",
              "    }\n",
              "    30% {\n",
              "      border-color: transparent;\n",
              "      border-left-color: var(--fill-color);\n",
              "      border-top-color: var(--fill-color);\n",
              "      border-right-color: var(--fill-color);\n",
              "    }\n",
              "    40% {\n",
              "      border-color: transparent;\n",
              "      border-right-color: var(--fill-color);\n",
              "      border-top-color: var(--fill-color);\n",
              "    }\n",
              "    60% {\n",
              "      border-color: transparent;\n",
              "      border-right-color: var(--fill-color);\n",
              "    }\n",
              "    80% {\n",
              "      border-color: transparent;\n",
              "      border-right-color: var(--fill-color);\n",
              "      border-bottom-color: var(--fill-color);\n",
              "    }\n",
              "    90% {\n",
              "      border-color: transparent;\n",
              "      border-bottom-color: var(--fill-color);\n",
              "    }\n",
              "  }\n",
              "</style>\n",
              "\n",
              "  <script>\n",
              "    async function quickchart(key) {\n",
              "      const quickchartButtonEl =\n",
              "        document.querySelector('#' + key + ' button');\n",
              "      quickchartButtonEl.disabled = true;  // To prevent multiple clicks.\n",
              "      quickchartButtonEl.classList.add('colab-df-spinner');\n",
              "      try {\n",
              "        const charts = await google.colab.kernel.invokeFunction(\n",
              "            'suggestCharts', [key], {});\n",
              "      } catch (error) {\n",
              "        console.error('Error during call to suggestCharts:', error);\n",
              "      }\n",
              "      quickchartButtonEl.classList.remove('colab-df-spinner');\n",
              "      quickchartButtonEl.classList.add('colab-df-quickchart-complete');\n",
              "    }\n",
              "    (() => {\n",
              "      let quickchartButtonEl =\n",
              "        document.querySelector('#df-673fa1aa-a380-4e4c-bedc-a4a6e3450d35 button');\n",
              "      quickchartButtonEl.style.display =\n",
              "        google.colab.kernel.accessAllowed ? 'block' : 'none';\n",
              "    })();\n",
              "  </script>\n",
              "</div>\n",
              "\n",
              "    </div>\n",
              "  </div>\n"
            ],
            "application/vnd.google.colaboratory.intrinsic+json": {
              "type": "dataframe",
              "variable_name": "twitter_data"
            }
          },
          "metadata": {},
          "execution_count": 12
        }
      ]
    },
    {
      "cell_type": "code",
      "source": [
        "# Vizualize the average length of the sentences in the data\n",
        "avg_len = sum(twitter_data['sentence_length'])/len(twitter_data['sentence_length'])\n",
        "print(f'Avg length of sentences: {avg_len}')\n",
        "print(f\"Max length : {max(twitter_data['sentence_length'])}\")\n",
        "print(f\"Min length :{min(twitter_data['sentence_length'])}\")"
      ],
      "metadata": {
        "colab": {
          "base_uri": "https://localhost:8080/"
        },
        "id": "h_dghC_-Pm-S",
        "outputId": "d3169a7f-517d-4802-9916-185a07549f84"
      },
      "execution_count": 13,
      "outputs": [
        {
          "output_type": "stream",
          "name": "stdout",
          "text": [
            "Avg length of sentences: 14.514459805239033\n",
            "Max length : 43\n",
            "Min length :0\n"
          ]
        }
      ]
    },
    {
      "cell_type": "markdown",
      "source": [
        "### Creating training and testing splits"
      ],
      "metadata": {
        "id": "ie9lIkXrN6Wm"
      }
    },
    {
      "cell_type": "code",
      "source": [
        "# Split data into dependent(X) and independent(y) dataframe\n",
        "X = twitter_data.drop('category', axis = 1)\n",
        "\n",
        "# Create dummy variables for target variable\n",
        "labels = pd.get_dummies(twitter_data['category'], dtype = 'float32')\n",
        "\n",
        "# Perform train_test_split\n",
        "X_train, X_test, y_train, y_test = train_test_split(X['clean_text'].values,\n",
        "                                                    labels.values,\n",
        "                                                    test_size = 0.2,\n",
        "                                                    random_state = 42)\n",
        "\n",
        "len(X_train), len(y_train), len(X_test), len(y_test)"
      ],
      "metadata": {
        "id": "0ArECAWCTOnp",
        "colab": {
          "base_uri": "https://localhost:8080/"
        },
        "outputId": "e85f8db1-444b-4f14-ef00-11516e83eb6e"
      },
      "execution_count": 68,
      "outputs": [
        {
          "output_type": "execute_result",
          "data": {
            "text/plain": [
              "(130375, 130375, 32594, 32594)"
            ]
          },
          "metadata": {},
          "execution_count": 68
        }
      ]
    },
    {
      "cell_type": "markdown",
      "source": [
        "### Text vectorization: Converting the text into numbers.\n",
        "\n",
        "* **Converting text data into numbers:** In natural language processing (NLP), machine learning algorithms require numerical input. However, text data consists of words and sentences, which are not directly usable by these algorithms. Therefore, we need to convert text data into numerical representations.\n",
        "\n",
        "* **Using the TextVectorization layer of Keras:** Keras is a deep learning library that provides various building blocks for creating neural networks. The TextVectorization layer is a component in Keras that allows us to convert text data into numerical vectors. It performs tokenization (splitting text into words or tokens) and vectorization (converting tokens into numerical representations).\n",
        "\n",
        "* **Converting into one-hot encoded array:** One-hot encoding is a technique used to represent categorical data, such as words in a text corpus, as binary vectors. In this representation, each word is represented by a vector where all elements are zeros except for one element, which is set to one. This element position corresponds to the index of the word in a predefined vocabulary. One-hot encoding is commonly used in NLP tasks to represent words in a format suitable for input into neural networks."
      ],
      "metadata": {
        "id": "LC5ZKDDJXkwB"
      }
    },
    {
      "cell_type": "code",
      "source": [
        "# Set the maximum sequence length\n",
        "max_sequence_length = 50\n",
        "\n",
        "# Create a TextVectorization layer with padding from the front side\n",
        "vectorizer = tf.keras.layers.TextVectorization(output_mode='binary',\n",
        "                                               max_tokens=10000,\n",
        "                                               standardize = 'lower_and_strip_punctuation',\n",
        "                                               split = 'whitespace',\n",
        "                                               ngrams = None,\n",
        "                                               pad_to_max_tokens=True)\n",
        "\n",
        "# Adapt the TextVectorization layer to the text data\n",
        "vectorizer.adapt(X_train)"
      ],
      "metadata": {
        "id": "PWd9AjjTT6sM"
      },
      "execution_count": 15,
      "outputs": []
    },
    {
      "cell_type": "code",
      "source": [
        "# Get the unique words in the vocabulary\n",
        "words_in_vocab = vectorizer.get_vocabulary() # Get all of the unique words in our training data found by the TextVectorizer\n",
        "top_5_words = words_in_vocab[:5] # Get the most common words\n",
        "bottom_5_words = words_in_vocab[-5:] # Get the least common words\n",
        "print(f'Number of words in Vocab: {len(words_in_vocab)}')\n",
        "print(f'5 most common words: {top_5_words}')\n",
        "print(f'5 least common words: {bottom_5_words}')"
      ],
      "metadata": {
        "colab": {
          "base_uri": "https://localhost:8080/"
        },
        "id": "ai57xb6iXwdT",
        "outputId": "9f45d891-4d14-4bcf-ac2d-8cf9b2a19188"
      },
      "execution_count": 16,
      "outputs": [
        {
          "output_type": "stream",
          "name": "stdout",
          "text": [
            "Number of words in Vocab: 10000\n",
            "5 most common words: ['[UNK]', 'modi', 'india', '’', 'bjp']\n",
            "5 least common words: ['shishupal', 'sentences', 'semen', 'seena', 'secularists']\n"
          ]
        }
      ]
    },
    {
      "cell_type": "markdown",
      "source": [
        "## Building the Model"
      ],
      "metadata": {
        "id": "jweQAImkWaun"
      }
    },
    {
      "cell_type": "markdown",
      "source": [
        "### Creating performant data pipeline"
      ],
      "metadata": {
        "id": "ThQvvREzM_6s"
      }
    },
    {
      "cell_type": "code",
      "source": [
        "batch_size = 1024\n",
        "\n",
        "# Create an efficient and performant data pipeline for train data\n",
        "train_data = tf.data.Dataset.from_tensor_slices((X_train, y_train))\n",
        "train_data = train_data.shuffle(len(X_train)).batch(batch_size).prefetch(tf.data.AUTOTUNE)\n",
        "\n",
        "# Apply the same preprocessing to the test data\n",
        "test_data = tf.data.Dataset.from_tensor_slices((X_test, y_test))\n",
        "test_data = test_data.batch(batch_size).prefetch(tf.data.AUTOTUNE)"
      ],
      "metadata": {
        "id": "2Qe5p6z95AZa"
      },
      "execution_count": 69,
      "outputs": []
    },
    {
      "cell_type": "code",
      "source": [
        "test_data"
      ],
      "metadata": {
        "colab": {
          "base_uri": "https://localhost:8080/"
        },
        "id": "dJklyUa0JX5e",
        "outputId": "eed6968d-842d-4809-c31b-2d0b97a24949"
      },
      "execution_count": 25,
      "outputs": [
        {
          "output_type": "execute_result",
          "data": {
            "text/plain": [
              "<_PrefetchDataset element_spec=(TensorSpec(shape=(None,), dtype=tf.string, name=None), TensorSpec(shape=(None, 3), dtype=tf.float32, name=None))>"
            ]
          },
          "metadata": {},
          "execution_count": 25
        }
      ]
    },
    {
      "cell_type": "code",
      "source": [
        "train_data"
      ],
      "metadata": {
        "colab": {
          "base_uri": "https://localhost:8080/"
        },
        "id": "7i8VEmbDArr1",
        "outputId": "01aa5216-7a88-4248-aad0-5b8af0a62f66"
      },
      "execution_count": 26,
      "outputs": [
        {
          "output_type": "execute_result",
          "data": {
            "text/plain": [
              "<_PrefetchDataset element_spec=(TensorSpec(shape=(None,), dtype=tf.string, name=None), TensorSpec(shape=(None, 3), dtype=tf.float32, name=None))>"
            ]
          },
          "metadata": {},
          "execution_count": 26
        }
      ]
    },
    {
      "cell_type": "code",
      "source": [
        "# set random seed\n",
        "tf.random.set_seed(42)\n",
        "\n",
        "with tf.device('/GPU:0'):\n",
        "\n",
        "  # Build an LSTM model and compile it (describe features, input length vocabulary size, information drop-out layer, activation function for output, )\n",
        "  inputs = Input(shape=(1,), dtype=tf.string)\n",
        "  x = vectorizer(inputs)\n",
        "  x = Reshape((-1, 10000))(x)\n",
        "  x = LSTM(units=64, dropout=0.2, recurrent_dropout=0.2, activation = 'tanh', unroll=True)(x)\n",
        "  outputs = Dense(3, activation='softmax')(x)\n",
        "\n",
        "  # Combine the inputs and outputs of the\n",
        "  lstm_model = tf.keras.Model(inputs, outputs, name = 'LSTM_1')\n",
        "\n",
        "\n",
        "  # Compile the model\n",
        "  lstm_model.compile(optimizer=tf.keras.optimizers.Adam(),\n",
        "                    loss='categorical_crossentropy',\n",
        "                    metrics=['accuracy'])\n",
        "\n",
        "  # Fit the model\n",
        "  lstm_model_history = lstm_model.fit(train_data,\n",
        "                                      epochs = 20,\n",
        "                                      steps_per_epoch = len(train_data),\n",
        "                                      validation_data = test_data,\n",
        "                                      validation_steps = int(len(test_data) * 0.15))"
      ],
      "metadata": {
        "id": "6_jtuaZUV0dP",
        "colab": {
          "base_uri": "https://localhost:8080/"
        },
        "outputId": "7315f951-5c31-44d9-918c-4d8ba41c2b45"
      },
      "execution_count": 71,
      "outputs": [
        {
          "output_type": "stream",
          "name": "stderr",
          "text": [
            "WARNING:tensorflow:Layer lstm_13 will not use cuDNN kernels since it doesn't meet the criteria. It will use a generic GPU kernel as fallback when running on GPU.\n"
          ]
        },
        {
          "output_type": "stream",
          "name": "stdout",
          "text": [
            "Epoch 1/20\n",
            "128/128 [==============================] - 5s 31ms/step - loss: 0.8787 - accuracy: 0.6091 - val_loss: 0.6338 - val_accuracy: 0.7986\n",
            "Epoch 2/20\n",
            "128/128 [==============================] - 3s 25ms/step - loss: 0.5570 - accuracy: 0.8119 - val_loss: 0.4487 - val_accuracy: 0.8696\n",
            "Epoch 3/20\n",
            "128/128 [==============================] - 3s 26ms/step - loss: 0.4868 - accuracy: 0.8343 - val_loss: 0.4122 - val_accuracy: 0.8792\n",
            "Epoch 4/20\n",
            "128/128 [==============================] - 5s 33ms/step - loss: 0.4576 - accuracy: 0.8427 - val_loss: 0.3951 - val_accuracy: 0.8896\n",
            "Epoch 5/20\n",
            "128/128 [==============================] - 3s 25ms/step - loss: 0.4313 - accuracy: 0.8496 - val_loss: 0.3793 - val_accuracy: 0.8914\n",
            "Epoch 6/20\n",
            "128/128 [==============================] - 3s 25ms/step - loss: 0.4023 - accuracy: 0.8580 - val_loss: 0.3694 - val_accuracy: 0.8928\n",
            "Epoch 7/20\n",
            "128/128 [==============================] - 4s 29ms/step - loss: 0.3672 - accuracy: 0.8722 - val_loss: 0.3607 - val_accuracy: 0.8940\n",
            "Epoch 8/20\n",
            "128/128 [==============================] - 3s 24ms/step - loss: 0.3397 - accuracy: 0.8841 - val_loss: 0.3498 - val_accuracy: 0.8977\n",
            "Epoch 9/20\n",
            "128/128 [==============================] - 4s 27ms/step - loss: 0.3216 - accuracy: 0.8919 - val_loss: 0.3438 - val_accuracy: 0.9014\n",
            "Epoch 10/20\n",
            "128/128 [==============================] - 4s 26ms/step - loss: 0.3042 - accuracy: 0.8991 - val_loss: 0.3405 - val_accuracy: 0.9014\n",
            "Epoch 11/20\n",
            "128/128 [==============================] - 3s 25ms/step - loss: 0.2911 - accuracy: 0.9039 - val_loss: 0.3388 - val_accuracy: 0.9009\n",
            "Epoch 12/20\n",
            "128/128 [==============================] - 4s 28ms/step - loss: 0.2810 - accuracy: 0.9076 - val_loss: 0.3371 - val_accuracy: 0.9031\n",
            "Epoch 13/20\n",
            "128/128 [==============================] - 3s 26ms/step - loss: 0.2697 - accuracy: 0.9118 - val_loss: 0.3350 - val_accuracy: 0.9014\n",
            "Epoch 14/20\n",
            "128/128 [==============================] - 3s 25ms/step - loss: 0.2615 - accuracy: 0.9146 - val_loss: 0.3357 - val_accuracy: 0.9041\n",
            "Epoch 15/20\n",
            "128/128 [==============================] - 4s 29ms/step - loss: 0.2550 - accuracy: 0.9165 - val_loss: 0.3355 - val_accuracy: 0.9053\n",
            "Epoch 16/20\n",
            "128/128 [==============================] - 3s 25ms/step - loss: 0.2467 - accuracy: 0.9188 - val_loss: 0.3359 - val_accuracy: 0.9016\n",
            "Epoch 17/20\n",
            "128/128 [==============================] - 3s 25ms/step - loss: 0.2392 - accuracy: 0.9220 - val_loss: 0.3380 - val_accuracy: 0.9014\n",
            "Epoch 18/20\n",
            "128/128 [==============================] - 3s 25ms/step - loss: 0.2320 - accuracy: 0.9241 - val_loss: 0.3399 - val_accuracy: 0.9043\n",
            "Epoch 19/20\n",
            "128/128 [==============================] - 3s 25ms/step - loss: 0.2243 - accuracy: 0.9272 - val_loss: 0.3408 - val_accuracy: 0.9026\n",
            "Epoch 20/20\n",
            "128/128 [==============================] - 3s 26ms/step - loss: 0.2155 - accuracy: 0.9300 - val_loss: 0.3442 - val_accuracy: 0.8997\n"
          ]
        }
      ]
    },
    {
      "cell_type": "markdown",
      "source": [
        "## Evaluate the model"
      ],
      "metadata": {
        "id": "MfxMMOyZRRcp"
      }
    },
    {
      "cell_type": "code",
      "source": [
        "# Evaluate the model on whole test data\n",
        "lstm_model.evaluate(test_data)"
      ],
      "metadata": {
        "colab": {
          "base_uri": "https://localhost:8080/"
        },
        "id": "toSRBgICLkOH",
        "outputId": "2848ed77-b211-4dcd-980c-c6d65e87adf6"
      },
      "execution_count": 73,
      "outputs": [
        {
          "output_type": "stream",
          "name": "stdout",
          "text": [
            "32/32 [==============================] - 1s 17ms/step - loss: 0.3290 - accuracy: 0.9037\n"
          ]
        },
        {
          "output_type": "execute_result",
          "data": {
            "text/plain": [
              "[0.3289790153503418, 0.9036939144134521]"
            ]
          },
          "metadata": {},
          "execution_count": 73
        }
      ]
    },
    {
      "cell_type": "code",
      "source": [
        "# Check the model's training and validation curves\n",
        "plt.figure(figsize = (9, 5))\n",
        "plt.plot(lstm_model_history.epoch, lstm_model_history.history['loss'], label = 'training loss')\n",
        "plt.plot(lstm_model_history.epoch, lstm_model_history.history['val_loss'], label = 'validation loss')\n",
        "plt.xlabel('epochs')\n",
        "plt.ylabel('loss')\n",
        "plt.title('Training and Validation Loss curves')\n",
        "plt.legend()\n",
        "\n",
        "plt.figure(figsize = (9, 5))\n",
        "plt.plot(lstm_model_history.epoch, lstm_model_history.history['accuracy'], label = 'training accuracy')\n",
        "plt.plot(lstm_model_history.epoch, lstm_model_history.history['val_accuracy'], label = 'validation accuracy')\n",
        "plt.xlabel('epochs')\n",
        "plt.ylabel('loss')\n",
        "plt.title('Training and Validation Accuracy curves')\n",
        "plt.legend()\n",
        "plt.show()"
      ],
      "metadata": {
        "id": "IuRSIGX_Nfu0",
        "colab": {
          "base_uri": "https://localhost:8080/",
          "height": 957
        },
        "outputId": "473089d5-cca2-4442-b1f4-2d1ff4efc8db"
      },
      "execution_count": 74,
      "outputs": [
        {
          "output_type": "display_data",
          "data": {
            "text/plain": [
              "<Figure size 900x500 with 1 Axes>"
            ],
            "image/png": "[encoded data removed]"
          },
          "metadata": {}
        },
        {
          "output_type": "display_data",
          "data": {
            "text/plain": [
              "<Figure size 900x500 with 1 Axes>"
            ],
            "image/png": "[encoded data removed]"
          },
          "metadata": {}
        }
      ]
    },
    {
      "cell_type": "markdown",
      "source": [
        "* Normalize the prediction as same as the original data(prediction might be in decimal, so whoever is nearest to 1 is predicted as yes and set other as 0)\n",
        "* Measure performance metrics and accuracy\n",
        "* print Classification report"
      ],
      "metadata": {
        "id": "ziNPsiOqP4ND"
      }
    },
    {
      "cell_type": "code",
      "source": [
        "# Define a function to normalize the predictions\n",
        "def normalize_predictions(predictions, threshold=0.5):\n",
        "    \"\"\"\n",
        "    Normalize the predictions such that values above the threshold are set to 1 (yes),\n",
        "    and values below or equal to the threshold are set to 0 (no).\n",
        "\n",
        "    Args:\n",
        "    - predictions: Array of predicted probabilities.\n",
        "    - threshold: Threshold value to determine the cutoff for predicting yes or no.\n",
        "\n",
        "    Returns:\n",
        "    - Normalized predictions as binary values (0 or 1).\n",
        "    \"\"\"\n",
        "    normalized_predictions = np.where(predictions > threshold, 1, 0)\n",
        "    return normalized_predictions"
      ],
      "metadata": {
        "id": "1gJ9s20wRpWR"
      },
      "execution_count": 75,
      "outputs": []
    },
    {
      "cell_type": "code",
      "source": [
        "# Make predictions on the test data\n",
        "lstm_preds = lstm_model.predict(X_test)\n",
        "y_preds = normalize_predictions(lstm_preds)\n",
        "y_preds"
      ],
      "metadata": {
        "colab": {
          "base_uri": "https://localhost:8080/"
        },
        "id": "HRe9S0hwRWG8",
        "outputId": "2faf53ec-7b22-4b67-81b3-545bad30d8fa"
      },
      "execution_count": 76,
      "outputs": [
        {
          "output_type": "stream",
          "name": "stdout",
          "text": [
            "1019/1019 [==============================] - 4s 4ms/step\n"
          ]
        },
        {
          "output_type": "execute_result",
          "data": {
            "text/plain": [
              "array([[0, 1, 0],\n",
              "       [0, 0, 1],\n",
              "       [1, 0, 0],\n",
              "       ...,\n",
              "       [0, 1, 0],\n",
              "       [0, 0, 1],\n",
              "       [0, 0, 1]])"
            ]
          },
          "metadata": {},
          "execution_count": 76
        }
      ]
    },
    {
      "cell_type": "code",
      "source": [
        "# Define a function to calculate the evalution metrics of the model\n",
        "def evaluate_model_metrics(y_preds, y_true):\n",
        "  \"Returns the dictionary of the evaluation metrics such as Accuracy, Precision, F1 score\"\n",
        "\n",
        "  accuracy = accuracy_score(y_true = y_true,\n",
        "                            y_pred = y_preds)\n",
        "\n",
        "  precision, recall, f1_score, _ = precision_recall_fscore_support(y_true = y_true,\n",
        "                                                                   y_pred = y_preds)\n",
        "\n",
        "  metrics =  {'accuracy': np.round(accuracy, 3),\n",
        "              'precision': np.round(precision, 3),\n",
        "              'F1_score': np.round(f1_score, 3),\n",
        "              'recall': np.round(recall, 3)}\n",
        "\n",
        "  return metrics"
      ],
      "metadata": {
        "id": "hCzkr1BySInq"
      },
      "execution_count": 77,
      "outputs": []
    },
    {
      "cell_type": "code",
      "source": [
        "# Print the evalution metrics of the model\n",
        "model_results = evaluate_model_metrics(y_preds = y_preds,\n",
        "                                       y_true = y_test)\n",
        "model_results"
      ],
      "metadata": {
        "colab": {
          "base_uri": "https://localhost:8080/"
        },
        "id": "4qK-uGFKUwBg",
        "outputId": "8bd121d1-3806-49d6-99e5-82f44eb58fb5"
      },
      "execution_count": 78,
      "outputs": [
        {
          "output_type": "execute_result",
          "data": {
            "text/plain": [
              "{'accuracy': 0.899,\n",
              " 'precision': array([0.865, 0.919, 0.919]),\n",
              " 'F1_score': array([0.846, 0.927, 0.912]),\n",
              " 'recall': array([0.828, 0.936, 0.905])}"
            ]
          },
          "metadata": {},
          "execution_count": 78
        }
      ]
    },
    {
      "cell_type": "code",
      "source": [
        "# Print the classification report of the predictions\n",
        "report = classification_report(y_true = y_test,\n",
        "                               y_pred = y_preds)\n",
        "\n",
        "print(f'The classification report of the model predictions:\\n\\n{report}')"
      ],
      "metadata": {
        "colab": {
          "base_uri": "https://localhost:8080/"
        },
        "id": "fuHeXDS4Vt7R",
        "outputId": "baf4b411-bc15-420a-d8f6-b894f13254f0"
      },
      "execution_count": 79,
      "outputs": [
        {
          "output_type": "stream",
          "name": "stdout",
          "text": [
            "The classification report of the model predictions:\n",
            "\n",
            "              precision    recall  f1-score   support\n",
            "\n",
            "           0       0.86      0.83      0.85      7152\n",
            "           1       0.92      0.94      0.93     11067\n",
            "           2       0.92      0.91      0.91     14375\n",
            "\n",
            "   micro avg       0.91      0.90      0.90     32594\n",
            "   macro avg       0.90      0.89      0.90     32594\n",
            "weighted avg       0.91      0.90      0.90     32594\n",
            " samples avg       0.90      0.90      0.90     32594\n",
            "\n"
          ]
        },
        {
          "output_type": "stream",
          "name": "stderr",
          "text": [
            "/usr/local/lib/python3.10/dist-packages/sklearn/metrics/_classification.py:1344: UndefinedMetricWarning: Precision and F-score are ill-defined and being set to 0.0 in samples with no predicted labels. Use `zero_division` parameter to control this behavior.\n",
            "  _warn_prf(average, modifier, msg_start, len(result))\n"
          ]
        }
      ]
    },
    {
      "cell_type": "code",
      "source": [
        "# Define a function to find the actual category of the predictions\n",
        "\n",
        "def make_predictions(input_sentence, model):\n",
        "\n",
        "  # Make prediction on the model\n",
        "  pred_prob = model.predict([input_sentence])\n",
        "\n",
        "  # Normalize the predictions\n",
        "  pred = normalize_predictions(pred_prob)\n",
        "\n",
        "  # Get the index of the maximum value in the prediction array\n",
        "  predicted_index = np.argmax(pred)\n",
        "\n",
        "  # Get the corresponding category from the dummy variables\n",
        "  predicted_category = labels.columns[predicted_index]\n",
        "\n",
        "  return predicted_category\n"
      ],
      "metadata": {
        "id": "Xtdb0QJ0aQJ0"
      },
      "execution_count": 109,
      "outputs": []
    },
    {
      "cell_type": "code",
      "source": [
        "# Classify the input tweet\n",
        "input_text = \"Heartiest congratulations to the RCB Women’s Team for winning the WPL. It would be a fantastic double if the RCB Men’s Team won the IPL which is long overdue. Good Luck.\"\n",
        "print(f\"\\nInput Text:\\n{input_text}\\n\\nPredicted category:\\n{make_predictions(input_text, lstm_model)}\")"
      ],
      "metadata": {
        "colab": {
          "base_uri": "https://localhost:8080/"
        },
        "id": "ewiU1QSFcviE",
        "outputId": "ae3aeba3-3865-4886-8a49-5e5d7efcb95b"
      },
      "execution_count": 110,
      "outputs": [
        {
          "output_type": "stream",
          "name": "stdout",
          "text": [
            "1/1 [==============================] - 0s 31ms/step\n",
            "\n",
            "Input Text:\n",
            "Heartiest congratulations to the RCB Women’s Team for winning the WPL. It would be a fantastic double if the RCB Men’s Team won the IPL which is long overdue. Good Luck.\n",
            "\n",
            "Predicted category:\n",
            "Positive\n"
          ]
        }
      ]
    },
    {
      "cell_type": "code",
      "source": [
        "input_text1 = \"I do believe in making jokes come true\"\n",
        "print(f\"\\nInput Text:\\n{input_text1}\\n\\nPredicted category:\\n{make_predictions(input_text1, lstm_model)}\")"
      ],
      "metadata": {
        "colab": {
          "base_uri": "https://localhost:8080/"
        },
        "id": "TT5kuhtSeHK6",
        "outputId": "0e428caa-99da-400a-dee6-3851d0a67bb4"
      },
      "execution_count": 123,
      "outputs": [
        {
          "output_type": "stream",
          "name": "stdout",
          "text": [
            "1/1 [==============================] - 0s 57ms/step\n",
            "\n",
            "Input Text:\n",
            "I do believe in making jokes come true\n",
            "\n",
            "Predicted category:\n",
            "Positive\n"
          ]
        }
      ]
    },
    {
      "cell_type": "code",
      "source": [
        "input_text2 = \"A Nigerian official pretended to faint after he was asked about missing funds\"\n",
        "print(f\"\\nInput Text:\\n{input_text2}\\n\\nPredicted category:\\n{make_predictions(input_text2, lstm_model)}\")"
      ],
      "metadata": {
        "colab": {
          "base_uri": "https://localhost:8080/"
        },
        "id": "ILooGz_RfquY",
        "outputId": "1ceb0196-0a36-4c9c-87c5-c235123c95dd"
      },
      "execution_count": 116,
      "outputs": [
        {
          "output_type": "stream",
          "name": "stdout",
          "text": [
            "1/1 [==============================] - 0s 56ms/step\n",
            "\n",
            "Input Text:\n",
            "A Nigerian official pretended to faint after he was asked about missing funds\n",
            "\n",
            "Predicted category:\n",
            "Negative\n"
          ]
        }
      ]
    }
  ]
}